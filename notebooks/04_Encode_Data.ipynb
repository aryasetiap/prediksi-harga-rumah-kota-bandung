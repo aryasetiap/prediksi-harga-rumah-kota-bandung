{
 "cells": [
  {
   "cell_type": "markdown",
   "metadata": {},
   "source": [
    "# 4️⃣ Encode Data"
   ]
  },
  {
   "cell_type": "markdown",
   "metadata": {},
   "source": [
    "#### 1️⃣ Import Library yang diperlukan"
   ]
  },
  {
   "cell_type": "code",
   "execution_count": 1,
   "metadata": {},
   "outputs": [],
   "source": [
    "import pandas as pd\n",
    "from sklearn.preprocessing import LabelEncoder\n",
    "from tabulate import tabulate\n",
    "from sklearn.model_selection import train_test_split"
   ]
  },
  {
   "cell_type": "markdown",
   "metadata": {},
   "source": [
    "#### 2️⃣ Memuat Dataset"
   ]
  },
  {
   "cell_type": "code",
   "execution_count": 2,
   "metadata": {},
   "outputs": [
    {
     "name": "stdout",
     "output_type": "stream",
     "text": [
      "✅ Dataset berhasil dimuat!\n"
     ]
    }
   ],
   "source": [
    "# Memuat dataset\n",
    "df = pd.read_csv('../data/processed/noEncoded_data_harga_rumah_kota_bandung.csv')\n",
    "print(\"✅ Dataset berhasil dimuat!\")"
   ]
  },
  {
   "cell_type": "code",
   "execution_count": 3,
   "metadata": {},
   "outputs": [
    {
     "name": "stdout",
     "output_type": "stream",
     "text": [
      "\n",
      "Beberapa data pertama:\n",
      "       price  installment       location  bedroom_count  bathroom_count  carport_count  land_area  building_area\n",
      "2100000000.0    7000000.0 Andir, Bandung              3               2              2      137.0          170.0\n",
      "4100000000.0   15000000.0 Andir, Bandung              3               2              3      202.0          300.0\n",
      "3300000000.0   12000000.0 Andir, Bandung              5               2              1      350.0          258.0\n",
      " 580000000.0    2000000.0 Andir, Bandung              2               2              1       30.0           80.0\n",
      "1300000000.0    4000000.0 Andir, Bandung             11               3              0      176.0          176.0\n",
      "\n",
      "Info Dataset:\n",
      "<class 'pandas.core.frame.DataFrame'>\n",
      "RangeIndex: 5574 entries, 0 to 5573\n",
      "Data columns (total 8 columns):\n",
      " #   Column          Non-Null Count  Dtype  \n",
      "---  ------          --------------  -----  \n",
      " 0   price           5574 non-null   float64\n",
      " 1   installment     5574 non-null   float64\n",
      " 2   location        5574 non-null   object \n",
      " 3   bedroom_count   5574 non-null   int64  \n",
      " 4   bathroom_count  5574 non-null   int64  \n",
      " 5   carport_count   5574 non-null   int64  \n",
      " 6   land_area       5574 non-null   float64\n",
      " 7   building_area   5574 non-null   float64\n",
      "dtypes: float64(4), int64(3), object(1)\n",
      "memory usage: 348.5+ KB\n"
     ]
    }
   ],
   "source": [
    "# Menampilkan beberapa data pertama\n",
    "print(\"\\nBeberapa data pertama:\")\n",
    "print(df.head().to_string(index=False))\n",
    "\n",
    "# Menampilkan info dataset\n",
    "print(\"\\nInfo Dataset:\")\n",
    "df.info()"
   ]
  },
  {
   "cell_type": "markdown",
   "metadata": {},
   "source": [
    "#### 3️⃣ Melakukan Label Encoding"
   ]
  },
  {
   "cell_type": "code",
   "execution_count": 4,
   "metadata": {},
   "outputs": [
    {
     "name": "stdout",
     "output_type": "stream",
     "text": [
      "Mapping Label Encoding:\n",
      "+---------------------------+--------+\n",
      "| Lokasi                    |   Kode |\n",
      "+===========================+========+\n",
      "| Andir, Bandung            |      0 |\n",
      "+---------------------------+--------+\n",
      "| Antapani, Bandung         |      1 |\n",
      "+---------------------------+--------+\n",
      "| Arcamanik, Bandung        |      2 |\n",
      "+---------------------------+--------+\n",
      "| Astanaanyar, Bandung      |      3 |\n",
      "+---------------------------+--------+\n",
      "| Babakanciparay, Bandung   |      4 |\n",
      "+---------------------------+--------+\n",
      "| Bandung Kidul, Bandung    |      5 |\n",
      "+---------------------------+--------+\n",
      "| Bandung Kulon, Bandung    |      6 |\n",
      "+---------------------------+--------+\n",
      "| Bandung Wetan, Bandung    |      7 |\n",
      "+---------------------------+--------+\n",
      "| Batununggal, Bandung      |      8 |\n",
      "+---------------------------+--------+\n",
      "| Bojongloa Kidul, Bandung  |      9 |\n",
      "+---------------------------+--------+\n",
      "| Buah Batu, Bandung        |     10 |\n",
      "+---------------------------+--------+\n",
      "| Cibeunying Kidul, Bandung |     11 |\n",
      "+---------------------------+--------+\n",
      "| Cibiru, Bandung           |     12 |\n",
      "+---------------------------+--------+\n",
      "| Cicendo, Bandung          |     13 |\n",
      "+---------------------------+--------+\n",
      "| Cidadap, Bandung          |     14 |\n",
      "+---------------------------+--------+\n",
      "| Coblong, Bandung          |     15 |\n",
      "+---------------------------+--------+\n",
      "| Gede Bage, Bandung        |     16 |\n",
      "+---------------------------+--------+\n",
      "| Kiaracondong, Bandung     |     17 |\n",
      "+---------------------------+--------+\n",
      "| Lengkong, Bandung         |     18 |\n",
      "+---------------------------+--------+\n",
      "| Mandalajati, Bandung      |     19 |\n",
      "+---------------------------+--------+\n",
      "| Panyileukan, Bandung      |     20 |\n",
      "+---------------------------+--------+\n",
      "| Rancasari, Bandung        |     21 |\n",
      "+---------------------------+--------+\n",
      "| Regol, Bandung            |     22 |\n",
      "+---------------------------+--------+\n",
      "| Sukajadi, Bandung         |     23 |\n",
      "+---------------------------+--------+\n",
      "| Sukasari, Bandung         |     24 |\n",
      "+---------------------------+--------+\n",
      "| Sumurbandung, Bandung     |     25 |\n",
      "+---------------------------+--------+\n",
      "| Ujungberung, Bandung      |     26 |\n",
      "+---------------------------+--------+\n"
     ]
    }
   ],
   "source": [
    "# Inisialisasi Label Encoder\n",
    "le = LabelEncoder()\n",
    "\n",
    "# Menerapkan Label Encoding pada kolom 'location'\n",
    "df[\"location_encoded\"] = le.fit_transform(df[\"location\"])\n",
    "\n",
    "# Menampilkan mapping lokasi → angka\n",
    "label_mapping = dict(zip(le.classes_, le.transform(le.classes_)))\n",
    "\n",
    "# Mengubah mapping ke dalam bentuk list of lists\n",
    "mapping_data = [[location, code] for location, code in label_mapping.items()]\n",
    "\n",
    "# Menampilkan dalam bentuk tabel\n",
    "print(\"Mapping Label Encoding:\")\n",
    "print(tabulate(mapping_data, headers=[\"Lokasi\", \"Kode\"], tablefmt=\"grid\"))"
   ]
  },
  {
   "cell_type": "markdown",
   "metadata": {},
   "source": [
    "#### 4️⃣ Menyimpan Hasil Encoding"
   ]
  },
  {
   "cell_type": "code",
   "execution_count": 5,
   "metadata": {},
   "outputs": [
    {
     "name": "stdout",
     "output_type": "stream",
     "text": [
      "Kolom 'location' berhasil dihapus!\n",
      "\n",
      "✅ Label Encoding berhasil dilakukan dan data berhasil disimpan!\n",
      "✅ Dataset berhasil dibagi menjadi Train (70%), Validation (15%), dan Test (15%)!\n"
     ]
    }
   ],
   "source": [
    "df.drop(columns=['location'], inplace=True)\n",
    "print(\"Kolom 'location' berhasil dihapus!\")\n",
    "\n",
    "# Simpan dataset yang sudah di-label encode\n",
    "df.to_csv(\"../data/processed/house_prices_label_encoded.csv\", index=False)\n",
    "\n",
    "print(\"\\n✅ Label Encoding berhasil dilakukan dan data berhasil disimpan!\")\n",
    "\n",
    "# Mengacak urutan baris dalam dataset\n",
    "df = df.sample(frac=1, random_state=42).reset_index(drop=True)\n",
    "\n",
    "# Membagi dataset: 70% Train, 30% Sisa (Validation + Test)\n",
    "train_df, temp_df = train_test_split(df, test_size=0.3, random_state=42)\n",
    "\n",
    "# Membagi sisa data: 15% Validation, 15% Test\n",
    "val_df, test_df = train_test_split(temp_df, test_size=0.5, random_state=42)\n",
    "\n",
    "# Menyimpan hasil pembagian dataset\n",
    "train_df.to_csv(\"../data/processed/house_prices_train.csv\", index=False)\n",
    "val_df.to_csv(\"../data/processed/house_prices_val.csv\", index=False)\n",
    "test_df.to_csv(\"../data/processed/house_prices_test.csv\", index=False)\n",
    "\n",
    "print(\"✅ Dataset berhasil dibagi menjadi Train (70%), Validation (15%), dan Test (15%)!\")\n"
   ]
  }
 ],
 "metadata": {
  "kernelspec": {
   "display_name": "venv",
   "language": "python",
   "name": "python3"
  },
  "language_info": {
   "codemirror_mode": {
    "name": "ipython",
    "version": 3
   },
   "file_extension": ".py",
   "mimetype": "text/x-python",
   "name": "python",
   "nbconvert_exporter": "python",
   "pygments_lexer": "ipython3",
   "version": "3.9.13"
  }
 },
 "nbformat": 4,
 "nbformat_minor": 2
}
