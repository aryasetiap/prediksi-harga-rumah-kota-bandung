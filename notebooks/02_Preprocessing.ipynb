{
 "cells": [
  {
   "cell_type": "markdown",
   "metadata": {},
   "source": [
    "# 2️⃣ Preprocessing Data"
   ]
  },
  {
   "cell_type": "markdown",
   "metadata": {},
   "source": [
    "Preprocessing Data adalah serangkaian langkah yang dilakukan untuk membersihkan, mengubah, dan menyiapkan data sebelum digunakan untuk langkah selanjutnya."
   ]
  },
  {
   "cell_type": "markdown",
   "metadata": {},
   "source": [
    "### 1️⃣ Import Library yang dibutuhkan : "
   ]
  },
  {
   "cell_type": "code",
   "execution_count": 1,
   "metadata": {},
   "outputs": [],
   "source": [
    "import pandas as pd"
   ]
  },
  {
   "cell_type": "markdown",
   "metadata": {},
   "source": [
    "### 2️⃣ Membaca Dataset"
   ]
  },
  {
   "cell_type": "code",
   "execution_count": 2,
   "metadata": {},
   "outputs": [
    {
     "name": "stdout",
     "output_type": "stream",
     "text": [
      "✅ Dataset berhasil dimuat!\n",
      "\n",
      "Beberapa data pertama:\n",
      " type  status         price                  installment                                                             house_name       location  bedroom_count  bathroom_count  carport_count land_area building_area\n",
      "Rumah Premier Rp 2,1 Miliar  Cicilan: 7 Jutaan per bulan Rumah 2 Lantai Bagus Sertifikat Hak Milik di Maltra Residence, Bandung Andir, Bandung              3               2              2    137 m²        170 m²\n",
      "Rumah     NaN Rp 4,1 Miliar Cicilan: 15 Jutaan per bulan                                        Rumah Cantik @ Andir (Sudirman) Andir, Bandung              3               2              3    202 m²        300 m²\n",
      "Rumah     NaN Rp 3,3 Miliar Cicilan: 12 Jutaan per bulan                  Jual Cepat Rumah di Maleber Rajawali Bisa Untuk Usaha Andir, Bandung              5               2              1    350 m²        258 m²\n",
      "Rumah     NaN   Rp 580 Juta  Cicilan: 2 Jutaan per bulan      Rumah minimalis 3 lantai di andir Bandung cocok buat tempat usaha Andir, Bandung              2               2              1     30 m²         80 m²\n",
      "Rumah     NaN Rp 1,3 Miliar  Cicilan: 4 Jutaan per bulan                Jual Rumah Murah Bisa Dijadikan Kos”an Di Jalan Maleber Andir, Bandung             11               3              0    176 m²        176 m²\n"
     ]
    }
   ],
   "source": [
    "# Memuat dataset\n",
    "df = pd.read_csv('../data/raw/data_harga_rumah_kota_bandung.csv')\n",
    "print(\"✅ Dataset berhasil dimuat!\")\n",
    "\n",
    "# Menampilkan beberapa data pertama\n",
    "print(\"\\nBeberapa data pertama:\")\n",
    "print(df.head().to_string(index=False))"
   ]
  },
  {
   "cell_type": "markdown",
   "metadata": {},
   "source": [
    "### 3️⃣ Menangani Missing Value"
   ]
  },
  {
   "cell_type": "code",
   "execution_count": 3,
   "metadata": {},
   "outputs": [
    {
     "name": "stdout",
     "output_type": "stream",
     "text": [
      "Jumlah data yang hilang pada setiap kolom:\n",
      "\n",
      "type                 0\n",
      "status            7466\n",
      "price                0\n",
      "installment          0\n",
      "house_name           0\n",
      "location             0\n",
      "bedroom_count        0\n",
      "bathroom_count       0\n",
      "carport_count        0\n",
      "land_area            2\n",
      "building_area        1\n",
      "\n",
      "Jumlah data pada dataset : 7611\n"
     ]
    }
   ],
   "source": [
    "print(\"Jumlah data yang hilang pada setiap kolom:\\n\")\n",
    "print((df.isnull().sum()).to_string())\n",
    "print(f\"\\nJumlah data pada dataset : {len(df)}\")"
   ]
  },
  {
   "cell_type": "markdown",
   "metadata": {},
   "source": [
    "#### 3.1 Missing value pada Kolom Status\n",
    "Karena kolom Status memiliki 7466 dari 7611 data yang hilang (~98.09% missing value), maka kolom tersebut tidak digunakan karena : \n",
    "\n",
    "    a. Terlalu Banyak Data Hilang\n",
    "    b. Mengisi Nilai yang Hilang Sulit & Tidak Akurat\n",
    "    c. Tidak Memberikan Kontribusi Signifikan ke Model"
   ]
  },
  {
   "cell_type": "markdown",
   "metadata": {},
   "source": [
    "Menghapus Kolom Status : "
   ]
  },
  {
   "cell_type": "code",
   "execution_count": 4,
   "metadata": {},
   "outputs": [
    {
     "name": "stdout",
     "output_type": "stream",
     "text": [
      "Kolom 'status' berhasil dihapus!\n"
     ]
    }
   ],
   "source": [
    "df.drop(columns=['status'], inplace=True)\n",
    "print(\"Kolom 'status' berhasil dihapus!\")"
   ]
  },
  {
   "cell_type": "markdown",
   "metadata": {},
   "source": [
    "#### 3.2 Missing Value pada Kolom land_area dan building_area\n",
    "Karena jumlah missing value pada kolom land_area dan building_area sangat kecil, yaitu hanya 1–2 dari 7611 baris data, maka penghapusan baris dengan nilai yang hilang merupakan pilihan terbaik agar tidak memengaruhi kualitas data secara keseluruhan."
   ]
  },
  {
   "cell_type": "code",
   "execution_count": 5,
   "metadata": {},
   "outputs": [
    {
     "name": "stdout",
     "output_type": "stream",
     "text": [
      "Data yang hilang pada kolom land_area dan building_area berhasil dihapus!\n"
     ]
    }
   ],
   "source": [
    "df.dropna(inplace=True)\n",
    "print(\"Data yang hilang pada kolom land_area dan building_area berhasil dihapus!\")"
   ]
  },
  {
   "cell_type": "markdown",
   "metadata": {},
   "source": [
    "#### Ringkasan Hasil Setelah Menghapus Nilai Missing Value"
   ]
  },
  {
   "cell_type": "code",
   "execution_count": 6,
   "metadata": {},
   "outputs": [
    {
     "name": "stdout",
     "output_type": "stream",
     "text": [
      "Daftar Kolom:\n",
      "\n",
      "1. type\n",
      "2. price\n",
      "3. installment\n",
      "4. house_name\n",
      "5. location\n",
      "6. bedroom_count\n",
      "7. bathroom_count\n",
      "8. carport_count\n",
      "9. land_area\n",
      "10. building_area\n",
      "\n",
      "Jumlah data pada dataset setelah penghapusan : 7609\n",
      "\n",
      "Beberapa data pertama setelah penghapusan:\n",
      " type         price                  installment                                                             house_name       location  bedroom_count  bathroom_count  carport_count land_area building_area\n",
      "Rumah Rp 2,1 Miliar  Cicilan: 7 Jutaan per bulan Rumah 2 Lantai Bagus Sertifikat Hak Milik di Maltra Residence, Bandung Andir, Bandung              3               2              2    137 m²        170 m²\n",
      "Rumah Rp 4,1 Miliar Cicilan: 15 Jutaan per bulan                                        Rumah Cantik @ Andir (Sudirman) Andir, Bandung              3               2              3    202 m²        300 m²\n",
      "Rumah Rp 3,3 Miliar Cicilan: 12 Jutaan per bulan                  Jual Cepat Rumah di Maleber Rajawali Bisa Untuk Usaha Andir, Bandung              5               2              1    350 m²        258 m²\n",
      "Rumah   Rp 580 Juta  Cicilan: 2 Jutaan per bulan      Rumah minimalis 3 lantai di andir Bandung cocok buat tempat usaha Andir, Bandung              2               2              1     30 m²         80 m²\n",
      "Rumah Rp 1,3 Miliar  Cicilan: 4 Jutaan per bulan                Jual Rumah Murah Bisa Dijadikan Kos”an Di Jalan Maleber Andir, Bandung             11               3              0    176 m²        176 m²\n"
     ]
    }
   ],
   "source": [
    "print(\"Daftar Kolom:\\n\")\n",
    "columns = df.columns.tolist()\n",
    "for i, col in enumerate(columns, 1):\n",
    "    print(f\"{i}. {col}\")\n",
    "print(f\"\\nJumlah data pada dataset setelah penghapusan : {len(df)}\")\n",
    "\n",
    "print(\"\\nBeberapa data pertama setelah penghapusan:\")\n",
    "print(df.head().to_string(index=False))"
   ]
  },
  {
   "cell_type": "markdown",
   "metadata": {},
   "source": [
    "### 4️⃣ Mengubah Nilai Pada Kolom `price` menjadi bilangan"
   ]
  },
  {
   "cell_type": "code",
   "execution_count": 7,
   "metadata": {},
   "outputs": [
    {
     "name": "stdout",
     "output_type": "stream",
     "text": [
      "\n",
      "Beberapa data pertama setelah konversi harga:\n",
      " type        price                  installment                                                             house_name       location  bedroom_count  bathroom_count  carport_count land_area building_area\n",
      "Rumah 2100000000.0  Cicilan: 7 Jutaan per bulan Rumah 2 Lantai Bagus Sertifikat Hak Milik di Maltra Residence, Bandung Andir, Bandung              3               2              2    137 m²        170 m²\n",
      "Rumah 4100000000.0 Cicilan: 15 Jutaan per bulan                                        Rumah Cantik @ Andir (Sudirman) Andir, Bandung              3               2              3    202 m²        300 m²\n",
      "Rumah 3300000000.0 Cicilan: 12 Jutaan per bulan                  Jual Cepat Rumah di Maleber Rajawali Bisa Untuk Usaha Andir, Bandung              5               2              1    350 m²        258 m²\n",
      "Rumah  580000000.0  Cicilan: 2 Jutaan per bulan      Rumah minimalis 3 lantai di andir Bandung cocok buat tempat usaha Andir, Bandung              2               2              1     30 m²         80 m²\n",
      "Rumah 1300000000.0  Cicilan: 4 Jutaan per bulan                Jual Rumah Murah Bisa Dijadikan Kos”an Di Jalan Maleber Andir, Bandung             11               3              0    176 m²        176 m²\n"
     ]
    }
   ],
   "source": [
    "# Fungsi untuk mengonversi harga ke bilangan murni\n",
    "def convert_price(price):\n",
    "    price = price.replace('Rp', '').replace(',', '.').strip()  # Hapus 'Rp' dan ubah koma ke titik\n",
    "    \n",
    "    if 'Miliar' in price:\n",
    "        return float(price.replace('Miliar', '').strip()) * 1_000_000_000  # Konversi ke Rupiah\n",
    "    elif 'Juta' in price:\n",
    "        return float(price.replace('Juta', '').strip()) * 1_000_000\n",
    "    else:\n",
    "        return float(price)  # Jika format sudah numerik\n",
    "\n",
    "# Mengonversi harga ke bilangan murni\n",
    "df['price'] = df['price'].apply(convert_price)\n",
    "\n",
    "# Cek Hasil \n",
    "print(\"\\nBeberapa data pertama setelah konversi harga:\")\n",
    "print(df.head().to_string(index=False))"
   ]
  },
  {
   "cell_type": "markdown",
   "metadata": {},
   "source": [
    "### 5️⃣ Mengubah Nilai Pada Kolom `installment` Menjadi Bilangan "
   ]
  },
  {
   "cell_type": "code",
   "execution_count": 8,
   "metadata": {},
   "outputs": [
    {
     "name": "stdout",
     "output_type": "stream",
     "text": [
      "\n",
      "Beberapa data pertama setelah konversi installment:\n",
      " type        price  installment                                                             house_name       location  bedroom_count  bathroom_count  carport_count land_area building_area\n",
      "Rumah 2100000000.0    7000000.0 Rumah 2 Lantai Bagus Sertifikat Hak Milik di Maltra Residence, Bandung Andir, Bandung              3               2              2    137 m²        170 m²\n",
      "Rumah 4100000000.0   15000000.0                                        Rumah Cantik @ Andir (Sudirman) Andir, Bandung              3               2              3    202 m²        300 m²\n",
      "Rumah 3300000000.0   12000000.0                  Jual Cepat Rumah di Maleber Rajawali Bisa Untuk Usaha Andir, Bandung              5               2              1    350 m²        258 m²\n",
      "Rumah  580000000.0    2000000.0      Rumah minimalis 3 lantai di andir Bandung cocok buat tempat usaha Andir, Bandung              2               2              1     30 m²         80 m²\n",
      "Rumah 1300000000.0    4000000.0                Jual Rumah Murah Bisa Dijadikan Kos”an Di Jalan Maleber Andir, Bandung             11               3              0    176 m²        176 m²\n"
     ]
    }
   ],
   "source": [
    "# Fungsi untuk mengkonversi installment ke bilangan murni\n",
    "def convert_installment(installment):\n",
    "    installment = installment.replace('Cicilan: ', '').replace(',', '.').replace('per bulan', '').strip()\n",
    "    \n",
    "    if 'Ribuan' in installment:\n",
    "        return float(installment.replace('Ribuan', '').strip()) * 1_000\n",
    "    elif 'Jutaan' in installment:\n",
    "        return float(installment.replace('Jutaan', '').strip()) * 1_000_000\n",
    "    elif 'Miliaran' in installment:\n",
    "        return float(installment.replace('Miliaran', '').strip()) * 1_000_000_000\n",
    "\n",
    "# Terapkan fungsi ke kolom installment\n",
    "df['installment'] = df['installment'].apply(convert_installment)\n",
    "\n",
    "# Cek Hasil\n",
    "print(\"\\nBeberapa data pertama setelah konversi installment:\")\n",
    "print(df.head().to_string(index=False))"
   ]
  },
  {
   "cell_type": "markdown",
   "metadata": {},
   "source": [
    "#### 6️⃣ Menghapus Kolom `house_name`"
   ]
  },
  {
   "cell_type": "code",
   "execution_count": 9,
   "metadata": {},
   "outputs": [
    {
     "name": "stdout",
     "output_type": "stream",
     "text": [
      "Kolom 'type' dan 'house_name' berhasil dihapus!\n"
     ]
    }
   ],
   "source": [
    "df.drop(columns=['type', 'house_name'], inplace=True)\n",
    "print(\"Kolom 'type' dan 'house_name' berhasil dihapus!\")"
   ]
  },
  {
   "cell_type": "markdown",
   "metadata": {},
   "source": [
    "#### 7️⃣ Mengubah Nilai Pada Kolom `land_area` dan `building_area` menjadi bilangan"
   ]
  },
  {
   "cell_type": "code",
   "execution_count": 10,
   "metadata": {},
   "outputs": [
    {
     "name": "stdout",
     "output_type": "stream",
     "text": [
      "\n",
      "Beberapa data pertama setelah konversi area:\n",
      "       price  installment       location  bedroom_count  bathroom_count  carport_count  land_area  building_area\n",
      "2100000000.0    7000000.0 Andir, Bandung              3               2              2      137.0          170.0\n",
      "4100000000.0   15000000.0 Andir, Bandung              3               2              3      202.0          300.0\n",
      "3300000000.0   12000000.0 Andir, Bandung              5               2              1      350.0          258.0\n",
      " 580000000.0    2000000.0 Andir, Bandung              2               2              1       30.0           80.0\n",
      "1300000000.0    4000000.0 Andir, Bandung             11               3              0      176.0          176.0\n"
     ]
    }
   ],
   "source": [
    "# Fungsi untuk mengkonversi installment ke bilangan murni\n",
    "def convert_area(area):\n",
    "    area = area.replace('m²', '').replace(',', '.').strip()\n",
    "    return float(area)\n",
    "\n",
    "# Terapkan fungsi ke kolom land_area dan building_area\n",
    "df['land_area'] = df['land_area'].apply(convert_area)\n",
    "df['building_area'] = df['building_area'].apply(convert_area)\n",
    "\n",
    "# Cek Hasil\n",
    "print(\"\\nBeberapa data pertama setelah konversi area:\")\n",
    "print(df.head().to_string(index=False))"
   ]
  },
  {
   "cell_type": "markdown",
   "metadata": {},
   "source": [
    "#### 7️⃣ Menghapus Data Duplikat "
   ]
  },
  {
   "cell_type": "code",
   "execution_count": 11,
   "metadata": {},
   "outputs": [
    {
     "name": "stdout",
     "output_type": "stream",
     "text": [
      "Data duplikat berhasil dihapus!\n"
     ]
    }
   ],
   "source": [
    "df.drop_duplicates(inplace=True)\n",
    "print(\"Data duplikat berhasil dihapus!\")"
   ]
  },
  {
   "cell_type": "markdown",
   "metadata": {},
   "source": [
    "#### 8️⃣ Menyimpan ke dalam File csv"
   ]
  },
  {
   "cell_type": "code",
   "execution_count": 12,
   "metadata": {},
   "outputs": [
    {
     "name": "stdout",
     "output_type": "stream",
     "text": [
      "Dataset berhasil disimpan!\n"
     ]
    }
   ],
   "source": [
    "df.to_csv('../data/processed/noEncoded_data_harga_rumah_kota_bandung.csv', index=False)\n",
    "print(\"Dataset berhasil disimpan!\")"
   ]
  }
 ],
 "metadata": {
  "kernelspec": {
   "display_name": "venv",
   "language": "python",
   "name": "python3"
  },
  "language_info": {
   "codemirror_mode": {
    "name": "ipython",
    "version": 3
   },
   "file_extension": ".py",
   "mimetype": "text/x-python",
   "name": "python",
   "nbconvert_exporter": "python",
   "pygments_lexer": "ipython3",
   "version": "3.9.13"
  }
 },
 "nbformat": 4,
 "nbformat_minor": 2
}
