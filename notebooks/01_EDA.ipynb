{
 "cells": [
  {
   "cell_type": "markdown",
   "metadata": {},
   "source": [
    "# 1️⃣ Exploratory Data Analysis"
   ]
  },
  {
   "cell_type": "markdown",
   "metadata": {},
   "source": [
    "Exploratory Data Analysis (EDA) untuk memahami dataset dan menemukan pola yang bisa berguna dalam pemodelan."
   ]
  },
  {
   "cell_type": "markdown",
   "metadata": {},
   "source": [
    "Import Library yang dibutuhkan"
   ]
  },
  {
   "cell_type": "code",
   "execution_count": 1,
   "metadata": {},
   "outputs": [],
   "source": [
    "import pandas as pd\n",
    "import matplotlib.pyplot as plt\n",
    "import seaborn as sns"
   ]
  },
  {
   "cell_type": "markdown",
   "metadata": {},
   "source": [
    "✅ Membaca dataset"
   ]
  },
  {
   "cell_type": "code",
   "execution_count": 2,
   "metadata": {},
   "outputs": [
    {
     "name": "stdout",
     "output_type": "stream",
     "text": [
      "Cek Beberapa Data :\n"
     ]
    },
    {
     "data": {
      "text/html": [
       "<div>\n",
       "<style scoped>\n",
       "    .dataframe tbody tr th:only-of-type {\n",
       "        vertical-align: middle;\n",
       "    }\n",
       "\n",
       "    .dataframe tbody tr th {\n",
       "        vertical-align: top;\n",
       "    }\n",
       "\n",
       "    .dataframe thead th {\n",
       "        text-align: right;\n",
       "    }\n",
       "</style>\n",
       "<table border=\"1\" class=\"dataframe\">\n",
       "  <thead>\n",
       "    <tr style=\"text-align: right;\">\n",
       "      <th></th>\n",
       "      <th>type</th>\n",
       "      <th>status</th>\n",
       "      <th>price</th>\n",
       "      <th>installment</th>\n",
       "      <th>house_name</th>\n",
       "      <th>location</th>\n",
       "      <th>bedroom_count</th>\n",
       "      <th>bathroom_count</th>\n",
       "      <th>carport_count</th>\n",
       "      <th>land_area</th>\n",
       "      <th>building_area</th>\n",
       "    </tr>\n",
       "  </thead>\n",
       "  <tbody>\n",
       "    <tr>\n",
       "      <th>0</th>\n",
       "      <td>Rumah</td>\n",
       "      <td>Premier</td>\n",
       "      <td>Rp 2,1 Miliar</td>\n",
       "      <td>Cicilan: 7 Jutaan per bulan</td>\n",
       "      <td>Rumah 2 Lantai Bagus Sertifikat Hak Milik di M...</td>\n",
       "      <td>Andir, Bandung</td>\n",
       "      <td>3</td>\n",
       "      <td>2</td>\n",
       "      <td>2</td>\n",
       "      <td>137 m²</td>\n",
       "      <td>170 m²</td>\n",
       "    </tr>\n",
       "    <tr>\n",
       "      <th>1</th>\n",
       "      <td>Rumah</td>\n",
       "      <td>NaN</td>\n",
       "      <td>Rp 4,1 Miliar</td>\n",
       "      <td>Cicilan: 15 Jutaan per bulan</td>\n",
       "      <td>Rumah Cantik @ Andir (Sudirman)</td>\n",
       "      <td>Andir, Bandung</td>\n",
       "      <td>3</td>\n",
       "      <td>2</td>\n",
       "      <td>3</td>\n",
       "      <td>202 m²</td>\n",
       "      <td>300 m²</td>\n",
       "    </tr>\n",
       "    <tr>\n",
       "      <th>2</th>\n",
       "      <td>Rumah</td>\n",
       "      <td>NaN</td>\n",
       "      <td>Rp 3,3 Miliar</td>\n",
       "      <td>Cicilan: 12 Jutaan per bulan</td>\n",
       "      <td>Jual Cepat Rumah di Maleber Rajawali Bisa Untu...</td>\n",
       "      <td>Andir, Bandung</td>\n",
       "      <td>5</td>\n",
       "      <td>2</td>\n",
       "      <td>1</td>\n",
       "      <td>350 m²</td>\n",
       "      <td>258 m²</td>\n",
       "    </tr>\n",
       "    <tr>\n",
       "      <th>3</th>\n",
       "      <td>Rumah</td>\n",
       "      <td>NaN</td>\n",
       "      <td>Rp 580 Juta</td>\n",
       "      <td>Cicilan: 2 Jutaan per bulan</td>\n",
       "      <td>Rumah minimalis 3 lantai di andir Bandung coco...</td>\n",
       "      <td>Andir, Bandung</td>\n",
       "      <td>2</td>\n",
       "      <td>2</td>\n",
       "      <td>1</td>\n",
       "      <td>30 m²</td>\n",
       "      <td>80 m²</td>\n",
       "    </tr>\n",
       "    <tr>\n",
       "      <th>4</th>\n",
       "      <td>Rumah</td>\n",
       "      <td>NaN</td>\n",
       "      <td>Rp 1,3 Miliar</td>\n",
       "      <td>Cicilan: 4 Jutaan per bulan</td>\n",
       "      <td>Jual Rumah Murah Bisa Dijadikan Kos”an Di Jala...</td>\n",
       "      <td>Andir, Bandung</td>\n",
       "      <td>11</td>\n",
       "      <td>3</td>\n",
       "      <td>0</td>\n",
       "      <td>176 m²</td>\n",
       "      <td>176 m²</td>\n",
       "    </tr>\n",
       "  </tbody>\n",
       "</table>\n",
       "</div>"
      ],
      "text/plain": [
       "    type   status          price                   installment  \\\n",
       "0  Rumah  Premier  Rp 2,1 Miliar   Cicilan: 7 Jutaan per bulan   \n",
       "1  Rumah      NaN  Rp 4,1 Miliar  Cicilan: 15 Jutaan per bulan   \n",
       "2  Rumah      NaN  Rp 3,3 Miliar  Cicilan: 12 Jutaan per bulan   \n",
       "3  Rumah      NaN    Rp 580 Juta   Cicilan: 2 Jutaan per bulan   \n",
       "4  Rumah      NaN  Rp 1,3 Miliar   Cicilan: 4 Jutaan per bulan   \n",
       "\n",
       "                                          house_name        location  \\\n",
       "0  Rumah 2 Lantai Bagus Sertifikat Hak Milik di M...  Andir, Bandung   \n",
       "1                    Rumah Cantik @ Andir (Sudirman)  Andir, Bandung   \n",
       "2  Jual Cepat Rumah di Maleber Rajawali Bisa Untu...  Andir, Bandung   \n",
       "3  Rumah minimalis 3 lantai di andir Bandung coco...  Andir, Bandung   \n",
       "4  Jual Rumah Murah Bisa Dijadikan Kos”an Di Jala...  Andir, Bandung   \n",
       "\n",
       "   bedroom_count  bathroom_count  carport_count land_area building_area  \n",
       "0              3               2              2    137 m²        170 m²  \n",
       "1              3               2              3    202 m²        300 m²  \n",
       "2              5               2              1    350 m²        258 m²  \n",
       "3              2               2              1     30 m²         80 m²  \n",
       "4             11               3              0    176 m²        176 m²  "
      ]
     },
     "execution_count": 2,
     "metadata": {},
     "output_type": "execute_result"
    }
   ],
   "source": [
    "df = pd.read_csv('../data/raw/data_harga_rumah_kota_bandung.csv')\n",
    "\n",
    "print(\"Cek Beberapa Data :\")\n",
    "df.head()"
   ]
  },
  {
   "cell_type": "markdown",
   "metadata": {},
   "source": [
    "✅ Cek informasi dataset"
   ]
  },
  {
   "cell_type": "code",
   "execution_count": 3,
   "metadata": {},
   "outputs": [
    {
     "name": "stdout",
     "output_type": "stream",
     "text": [
      "Kolom                Tipe Data  Non-Null   Null      \n",
      "--------------------------------------------------\n",
      "type                 object     7611       0         \n",
      "status               object     145        7466      \n",
      "price                object     7611       0         \n",
      "installment          object     7611       0         \n",
      "house_name           object     7611       0         \n",
      "location             object     7611       0         \n",
      "bedroom_count        int64      7611       0         \n",
      "bathroom_count       int64      7611       0         \n",
      "carport_count        int64      7611       0         \n",
      "land_area            object     7609       2         \n",
      "building_area        object     7610       1         \n",
      "\n",
      "[Ringkasan]\n",
      "Baris: 7611, Kolom: 11\n",
      "Penggunaan Memori: 654.20 KB\n"
     ]
    }
   ],
   "source": [
    "# Membuat header\n",
    "print(f\"{'Kolom':<20} {'Tipe Data':<10} {'Non-Null':<10} {'Null':<10}\")\n",
    "print(\"-\" * 50)\n",
    "\n",
    "# Membuat baris data\n",
    "for col in df.columns:\n",
    "    dtype = str(df[col].dtype)\n",
    "    non_null = df[col].count()\n",
    "    null_count = df[col].isnull().sum()\n",
    "    print(f\"{col:<20} {dtype:<10} {non_null:<10} {null_count:<10}\")\n",
    "\n",
    "# Footer\n",
    "print(\"\\n[Ringkasan]\")\n",
    "print(f\"Baris: {len(df)}, Kolom: {len(df.columns)}\")\n",
    "print(f\"Penggunaan Memori: {df.memory_usage().sum() / 1024:.2f} KB\")"
   ]
  }
 ],
 "metadata": {
  "kernelspec": {
   "display_name": "venv",
   "language": "python",
   "name": "python3"
  },
  "language_info": {
   "codemirror_mode": {
    "name": "ipython",
    "version": 3
   },
   "file_extension": ".py",
   "mimetype": "text/x-python",
   "name": "python",
   "nbconvert_exporter": "python",
   "pygments_lexer": "ipython3",
   "version": "3.9.13"
  }
 },
 "nbformat": 4,
 "nbformat_minor": 2
}
